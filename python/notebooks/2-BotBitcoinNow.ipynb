{
 "cells": [
  {
   "cell_type": "markdown",
   "id": "9a77dcaf",
   "metadata": {},
   "source": [
    "# BOT CAPTURA PREÇO ATUAL BITCOIN"
   ]
  },
  {
   "cell_type": "markdown",
   "id": "fa29e017",
   "metadata": {},
   "source": [
    "## Instalação dos pacotes"
   ]
  },
  {
   "cell_type": "code",
   "execution_count": 1,
   "id": "fdf2275d",
   "metadata": {},
   "outputs": [
    {
     "name": "stdout",
     "output_type": "stream",
     "text": [
      "Requirement already satisfied: beautifulsoup4==4.10.0 in /home/marcelo/Documents/ambiente/anaconda3/lib/python3.8/site-packages (4.10.0)\n",
      "Requirement already satisfied: soupsieve>1.2 in /home/marcelo/Documents/ambiente/anaconda3/lib/python3.8/site-packages (from beautifulsoup4==4.10.0) (2.2.1)\n",
      "\u001b[33mWARNING: You are using pip version 21.2.3; however, version 21.3.1 is available.\n",
      "You should consider upgrading via the '/home/marcelo/Documents/ambiente/anaconda3/bin/python -m pip install --upgrade pip' command.\u001b[0m\n",
      "Requirement already satisfied: requests==2.26.0 in /home/marcelo/Documents/ambiente/anaconda3/lib/python3.8/site-packages (2.26.0)\n",
      "Requirement already satisfied: certifi>=2017.4.17 in /home/marcelo/Documents/ambiente/anaconda3/lib/python3.8/site-packages (from requests==2.26.0) (2020.12.5)\n",
      "Requirement already satisfied: charset-normalizer~=2.0.0 in /home/marcelo/Documents/ambiente/anaconda3/lib/python3.8/site-packages (from requests==2.26.0) (2.0.7)\n",
      "Requirement already satisfied: urllib3<1.27,>=1.21.1 in /home/marcelo/Documents/ambiente/anaconda3/lib/python3.8/site-packages (from requests==2.26.0) (1.26.4)\n",
      "Requirement already satisfied: idna<4,>=2.5 in /home/marcelo/Documents/ambiente/anaconda3/lib/python3.8/site-packages (from requests==2.26.0) (2.10)\n",
      "\u001b[33mWARNING: You are using pip version 21.2.3; however, version 21.3.1 is available.\n",
      "You should consider upgrading via the '/home/marcelo/Documents/ambiente/anaconda3/bin/python -m pip install --upgrade pip' command.\u001b[0m\n"
     ]
    }
   ],
   "source": [
    "import sys\n",
    "!{sys.executable} -m pip install beautifulsoup4==4.10.0 \n",
    "!{sys.executable} -m pip install requests==2.26.0"
   ]
  },
  {
   "cell_type": "markdown",
   "id": "e94067b6",
   "metadata": {},
   "source": [
    "## Importação dos módulos"
   ]
  },
  {
   "cell_type": "code",
   "execution_count": 2,
   "id": "a592ac46",
   "metadata": {},
   "outputs": [],
   "source": [
    "import json\n",
    "import requests\n",
    "from bs4 import BeautifulSoup\n",
    "from datetime import datetime"
   ]
  },
  {
   "cell_type": "markdown",
   "id": "778cf199",
   "metadata": {},
   "source": [
    "![Google Finance](images/bitcoin-now.png)"
   ]
  },
  {
   "cell_type": "markdown",
   "id": "c5cf7a9f",
   "metadata": {},
   "source": [
    "## BOT"
   ]
  },
  {
   "cell_type": "code",
   "execution_count": 4,
   "id": "3bda670c",
   "metadata": {},
   "outputs": [
    {
     "data": {
      "text/plain": [
       "{'date': '2021-10-30T10:04:46.460363', 'BTC': 61661.0}"
      ]
     },
     "execution_count": 4,
     "metadata": {},
     "output_type": "execute_result"
    }
   ],
   "source": [
    "headers = {}\n",
    "url = \"https://www.google.com/finance/quote/BTC-USD\"\n",
    "\n",
    "# Requests vai fazer uma requisição http com o conteúdo html\n",
    "req = requests.get(url, headers)\n",
    "\n",
    "# BeautifulSoup vai processar o html e disponibiliza-lo para extrações utilizando css selector / xpath query\n",
    "soup = BeautifulSoup(req.content, 'html.parser')\n",
    "\n",
    "# Através de css selector, selecionamos o primeiro div ([0]) com atributo \"data-source\"=\"BTC\", e obtemos o valor do atributo \"data-last-price\"\n",
    "bitcoin_price = soup.select('div[data-source=\"BTC\"]')[0].get(\"data-last-price\")\n",
    "\n",
    "# Deixamos em formato json\n",
    "price_now = {\"date\": datetime.now().isoformat(), \"BTC\": float(bitcoin_price)}  \n",
    "price_now"
   ]
  }
 ],
 "metadata": {
  "kernelspec": {
   "display_name": "Python 3 (ipykernel)",
   "language": "python",
   "name": "python3"
  },
  "language_info": {
   "codemirror_mode": {
    "name": "ipython",
    "version": 3
   },
   "file_extension": ".py",
   "mimetype": "text/x-python",
   "name": "python",
   "nbconvert_exporter": "python",
   "pygments_lexer": "ipython3",
   "version": "3.8.8"
  }
 },
 "nbformat": 4,
 "nbformat_minor": 5
}
