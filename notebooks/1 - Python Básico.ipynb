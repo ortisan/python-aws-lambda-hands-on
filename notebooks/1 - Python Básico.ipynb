{
 "cells": [
  {
   "cell_type": "markdown",
   "id": "269aa329",
   "metadata": {},
   "source": [
    "# Python Marotinho"
   ]
  },
  {
   "cell_type": "markdown",
   "id": "5a47aa92",
   "metadata": {},
   "source": [
    "## Condicionais"
   ]
  },
  {
   "cell_type": "code",
   "execution_count": 3,
   "id": "f49e7bdb",
   "metadata": {},
   "outputs": [
    {
     "name": "stdout",
     "output_type": "stream",
     "text": [
      "X igual que Y? False\n",
      "X maior que Y? False\n",
      "Python nao tem tipo\n",
      "X E Y? True\n",
      "X OU Y? True\n"
     ]
    }
   ],
   "source": [
    "x = 1\n",
    "y = 2\n",
    "\n",
    "print(\"X igual que Y?\", x == y)\n",
    "print(\"X maior que Y?\", x >= y)\n"
   ]
  },
  {
   "cell_type": "code",
   "execution_count": 4,
   "id": "bf5142fa",
   "metadata": {},
   "outputs": [
    {
     "name": "stdout",
     "output_type": "stream",
     "text": [
      "Python nao tem tipo\n",
      "X E Y? True\n",
      "X OU Y? True\n"
     ]
    }
   ],
   "source": [
    "print(\"Python nao tem tipo\")\n",
    "x = True\n",
    "y = True\n",
    "\n",
    "print(\"X E Y?\", x and y)\n",
    "print(\"X OU Y?\", x or y)"
   ]
  },
  {
   "cell_type": "markdown",
   "id": "23604a54",
   "metadata": {},
   "source": [
    "## Loops"
   ]
  },
  {
   "cell_type": "code",
   "execution_count": 5,
   "id": "e620b692",
   "metadata": {},
   "outputs": [
    {
     "name": "stdout",
     "output_type": "stream",
     "text": [
      "0\n",
      "1\n",
      "2\n",
      "3\n",
      "4\n",
      "5\n",
      "6\n",
      "7\n",
      "8\n",
      "9\n"
     ]
    }
   ],
   "source": [
    "for i in range(10):\n",
    "    print(i)"
   ]
  },
  {
   "cell_type": "code",
   "execution_count": 9,
   "id": "331c3c2e",
   "metadata": {},
   "outputs": [
    {
     "name": "stdout",
     "output_type": "stream",
     "text": [
      "0\n",
      "1\n",
      "2\n",
      "3\n",
      "4\n",
      "5\n",
      "6\n",
      "7\n",
      "8\n",
      "9\n"
     ]
    }
   ],
   "source": [
    "i = 0\n",
    "while i < 10:\n",
    "    print(i)\n",
    "    i+=1\n",
    "    "
   ]
  },
  {
   "cell_type": "markdown",
   "id": "e1c8050b",
   "metadata": {},
   "source": [
    "## Estrutura de dados"
   ]
  },
  {
   "cell_type": "markdown",
   "id": "b22f921d",
   "metadata": {},
   "source": [
    "### Tuplas (Pair Java/Kotlin)"
   ]
  },
  {
   "cell_type": "code",
   "execution_count": 11,
   "id": "66241f04",
   "metadata": {},
   "outputs": [
    {
     "name": "stdout",
     "output_type": "stream",
     "text": [
      "(1, 2)\n",
      "<class 'tuple'>\n"
     ]
    }
   ],
   "source": [
    "tupla = (1,2)\n",
    "print(tupla)\n",
    "print(type(tupla))"
   ]
  },
  {
   "cell_type": "markdown",
   "id": "68019f5a",
   "metadata": {},
   "source": [
    "### Dict (Maps no Java/Kotlin)"
   ]
  },
  {
   "cell_type": "code",
   "execution_count": 14,
   "id": "0b3ac7d3",
   "metadata": {},
   "outputs": [
    {
     "name": "stdout",
     "output_type": "stream",
     "text": [
      "{'nome': 'MR. Heisenberg'}\n",
      "<class 'dict'>\n"
     ]
    }
   ],
   "source": [
    "dict = {\"nome\": \"MR. Heisenberg\"}\n",
    "print(dict)\n",
    "print(type(dict))"
   ]
  },
  {
   "cell_type": "markdown",
   "id": "e342bd1e",
   "metadata": {},
   "source": [
    "### Listas"
   ]
  },
  {
   "cell_type": "code",
   "execution_count": 15,
   "id": "e7bee066",
   "metadata": {},
   "outputs": [
    {
     "name": "stdout",
     "output_type": "stream",
     "text": [
      "[1, 2, 3]\n",
      "<class 'list'>\n"
     ]
    }
   ],
   "source": [
    "lista = [1, 2, 3]\n",
    "print(lista)\n",
    "print(type(lista))"
   ]
  },
  {
   "cell_type": "markdown",
   "id": "180f82ac",
   "metadata": {},
   "source": [
    "## List Comprehensions"
   ]
  },
  {
   "cell_type": "code",
   "execution_count": 19,
   "id": "7e5407e5",
   "metadata": {},
   "outputs": [
    {
     "name": "stdout",
     "output_type": "stream",
     "text": [
      "[0, 1, 4, 9, 16, 25, 36, 49, 64, 81]\n"
     ]
    }
   ],
   "source": [
    "quadrado = [i**2 for i in range(10)]\n",
    "print(quadrado)"
   ]
  },
  {
   "cell_type": "code",
   "execution_count": 21,
   "id": "0267c290",
   "metadata": {},
   "outputs": [
    {
     "name": "stdout",
     "output_type": "stream",
     "text": [
      "[0, 2, 4, 6, 8]\n"
     ]
    }
   ],
   "source": [
    "pares = [i for i in range(10) if i % 2 == 0]\n",
    "print(pares)"
   ]
  },
  {
   "cell_type": "markdown",
   "id": "02474b16",
   "metadata": {},
   "source": [
    "## Tratamento de Erros"
   ]
  },
  {
   "cell_type": "code",
   "execution_count": 26,
   "id": "4e75efee",
   "metadata": {},
   "outputs": [
    {
     "name": "stdout",
     "output_type": "stream",
     "text": [
      "Ocorreu um erro: Idade não pode ser inferior a zero\n"
     ]
    }
   ],
   "source": [
    "idade = -1\n",
    "try:\n",
    "    if idade < 0:\n",
    "        raise Exception(\"Idade não pode ser inferior a zero\")\n",
    "except Exception as exc:\n",
    "    print(\"Ocorreu um erro:\", exc)"
   ]
  },
  {
   "cell_type": "markdown",
   "id": "c40c36b9",
   "metadata": {},
   "source": [
    "## Orientação a Objetos"
   ]
  },
  {
   "cell_type": "code",
   "execution_count": 32,
   "id": "b361faff",
   "metadata": {},
   "outputs": [
    {
     "name": "stdout",
     "output_type": "stream",
     "text": [
      "Date: 2021-10-29 23:32:22.890336, Price:100.0\n"
     ]
    }
   ],
   "source": [
    "# importacao de modulos\n",
    "from datetime import datetime\n",
    "\n",
    "# Classe que extend object\n",
    "class Tick(object):\n",
    "    date = None\n",
    "    price = 0.0\n",
    "\n",
    "    # Construtor\n",
    "    def __init__(self, date = datetime.now(), price = 0.0):\n",
    "        self.date = date\n",
    "        self.price = price\n",
    "    # toString()    \n",
    "    def __str__(self):\n",
    "        return f\"Date: {self.date}, Price: {self.price}\"\n",
    "\n",
    "tick = Tick(date = datetime.now(), price = 100.00)\n",
    "print(tick)\n"
   ]
  },
  {
   "cell_type": "code",
   "execution_count": null,
   "id": "3b78951e",
   "metadata": {},
   "outputs": [],
   "source": []
  }
 ],
 "metadata": {
  "kernelspec": {
   "display_name": "Python 3",
   "language": "python",
   "name": "python3"
  },
  "language_info": {
   "codemirror_mode": {
    "name": "ipython",
    "version": 3
   },
   "file_extension": ".py",
   "mimetype": "text/x-python",
   "name": "python",
   "nbconvert_exporter": "python",
   "pygments_lexer": "ipython3",
   "version": "3.8.8"
  }
 },
 "nbformat": 4,
 "nbformat_minor": 5
}
